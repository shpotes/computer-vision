{
 "cells": [
  {
   "cell_type": "code",
   "execution_count": 1,
   "metadata": {},
   "outputs": [],
   "source": [
    "import tensorflow as tf\n",
    "import numpy as np\n",
    "import matplotlib.pyplot as plt\n",
    "from sklearn.utils import shuffle\n",
    "from tqdm import tqdm\n",
    "from classic_network import LeNet_5, AlexNet, VGG16\n",
    "%matplotlib inline"
   ]
  },
  {
   "cell_type": "markdown",
   "metadata": {},
   "source": [
    "# LeNet-5"
   ]
  },
  {
   "cell_type": "code",
   "execution_count": 2,
   "metadata": {},
   "outputs": [],
   "source": [
    "(x_train, y_train), (x_test, y_test) = tf.keras.datasets.mnist.load_data()\n",
    "\n",
    "INPUT_SIZE = (32, 32, 1)\n",
    "\n",
    "x_train = np.pad(x_train, ((0,0),(2,2),(2,2)), 'constant').reshape((y_train.size, *INPUT_SIZE))\n",
    "x_test = np.pad(x_test, ((0,0),(2,2),(2,2)), 'constant').reshape((y_test.size, *INPUT_SIZE))"
   ]
  },
  {
   "cell_type": "code",
   "execution_count": 3,
   "metadata": {},
   "outputs": [],
   "source": [
    "tf.reset_default_graph()"
   ]
  },
  {
   "cell_type": "code",
   "execution_count": 4,
   "metadata": {},
   "outputs": [],
   "source": [
    "x = tf.placeholder(tf.float32, shape=[None, 32, 32, 1])\n",
    "y = tf.placeholder(tf.int64, shape=[None])\n",
    "one_hot_y = tf.one_hot(y, 10)"
   ]
  },
  {
   "cell_type": "code",
   "execution_count": 5,
   "metadata": {},
   "outputs": [],
   "source": [
    "LR = 0.001\n",
    "BATCH_SIZE = 16\n",
    "EPOCHS = 4\n",
    "\n",
    "logits, params = LeNet_5(x)\n",
    "pred = tf.argmax(logits, axis=-1)\n",
    "cross_entropy = tf.nn.softmax_cross_entropy_with_logits_v2(labels=one_hot_y,\n",
    "                                                           logits=logits)\n",
    "loss = tf.reduce_mean(cross_entropy)\n",
    "optimizer = tf.train.AdamOptimizer(learning_rate=LR)\n",
    "train_op = optimizer.minimize(loss)\n",
    "\n",
    "correct_pred = tf.equal(pred, y)\n",
    "accuracy = tf.reduce_mean(tf.cast(correct_pred, tf.float32)) * 100\n",
    "\n",
    "tf.summary.scalar('acc_summary', accuracy)\n",
    "merged = tf.summary.merge_all()"
   ]
  },
  {
   "cell_type": "code",
   "execution_count": 7,
   "metadata": {},
   "outputs": [
    {
     "name": "stderr",
     "output_type": "stream",
     "text": [
      "100%|██████████| 3750/3750 [01:08<00:00, 55.11it/s]\n",
      "  0%|          | 0/3750 [00:00<?, ?it/s]"
     ]
    },
    {
     "name": "stdout",
     "output_type": "stream",
     "text": [
      "Epoach 0, Minibatch Loss= 0.0385, Training Accuracy=100.00%\n"
     ]
    },
    {
     "name": "stderr",
     "output_type": "stream",
     "text": [
      "100%|██████████| 3750/3750 [01:07<00:00, 55.56it/s]\n",
      "  0%|          | 0/3750 [00:00<?, ?it/s]"
     ]
    },
    {
     "name": "stdout",
     "output_type": "stream",
     "text": [
      "Epoach 1, Minibatch Loss= 0.0125, Training Accuracy=100.00%\n"
     ]
    },
    {
     "name": "stderr",
     "output_type": "stream",
     "text": [
      "100%|██████████| 3750/3750 [01:07<00:00, 55.71it/s]\n",
      "  0%|          | 0/3750 [00:00<?, ?it/s]"
     ]
    },
    {
     "name": "stdout",
     "output_type": "stream",
     "text": [
      "Epoach 2, Minibatch Loss= 0.0014, Training Accuracy=100.00%\n"
     ]
    },
    {
     "name": "stderr",
     "output_type": "stream",
     "text": [
      "100%|██████████| 3750/3750 [01:07<00:00, 55.22it/s]\n"
     ]
    },
    {
     "name": "stdout",
     "output_type": "stream",
     "text": [
      "Epoach 3, Minibatch Loss= 0.0031, Training Accuracy=100.00%\n",
      "Optimization Finished!\n",
      "Testing Accuracy: 98.24\n"
     ]
    }
   ],
   "source": [
    "# TODO Run model and evaluate\n",
    "STORE_PATH = 'logs/'\n",
    "saver = tf.train.Saver()\n",
    "ws = {}\n",
    "with tf.Session() as sess:\n",
    "    sess.run(tf.global_variables_initializer())\n",
    "    writer = tf.summary.FileWriter(STORE_PATH, sess.graph)\n",
    "\n",
    "    for i in range(EPOCHS):\n",
    "\n",
    "        writer = tf.summary.FileWriter(STORE_PATH, sess.graph)\n",
    "        x_train, y_train = shuffle(x_train, y_train)\n",
    "        for offset in tqdm(range(0, y_train.size, BATCH_SIZE)):\n",
    "            end = offset + BATCH_SIZE\n",
    "            xt, yt = x_train[offset:end], y_train[offset:end]\n",
    "            sess.run(train_op, feed_dict={x: xt, y: yt})\n",
    "\n",
    "\n",
    "        loss_v, acc, summary = sess.run([loss, accuracy, merged], feed_dict={x: xt, y: yt})\n",
    "        print(\"Epoach {}, Minibatch Loss= {:.4f}, Training Accuracy={:.2f}%\".format(i, loss_v, acc))\n",
    "        writer.add_summary(summary, i)\n",
    "\n",
    "    print(\"Optimization Finished!\")\n",
    "    save_path = saver.save(sess, \"logs/lenet.ckpt\")\n",
    "\n",
    "    print(\"Testing Accuracy:\", \\\n",
    "        sess.run(accuracy, feed_dict={x: x_test,\n",
    "                                      y: y_test}))\n",
    "    ws = sess.run(params)"
   ]
  },
  {
   "cell_type": "code",
   "execution_count": 11,
   "metadata": {},
   "outputs": [
    {
     "name": "stdout",
     "output_type": "stream",
     "text": [
      "INFO:tensorflow:Restoring parameters from logs/lenet.ckpt\n",
      "Testing Accuracy: 98.24\n"
     ]
    }
   ],
   "source": [
    "with tf.Session() as sess:\n",
    "    saver.restore(sess, \"logs/lenet.ckpt\")\n",
    "    print(\"Testing Accuracy:\", \\\n",
    "        sess.run(accuracy, feed_dict={x: x_test,\n",
    "                                      y: y_test}))"
   ]
  },
  {
   "cell_type": "markdown",
   "metadata": {},
   "source": [
    "# AlexNet"
   ]
  },
  {
   "cell_type": "code",
   "execution_count": 9,
   "metadata": {},
   "outputs": [],
   "source": [
    "tf.reset_default_graph()"
   ]
  },
  {
   "cell_type": "code",
   "execution_count": 8,
   "metadata": {},
   "outputs": [],
   "source": [
    "# TODO: Download ImageNet"
   ]
  },
  {
   "cell_type": "code",
   "execution_count": 9,
   "metadata": {},
   "outputs": [],
   "source": [
    "x = tf.placeholder(tf.float32, shape=[None, 227, 227, 3])\n",
    "y = tf.placeholder(tf.int32, shape=[None])\n",
    "one_hot_y = tf.one_hot(y, 1000)"
   ]
  },
  {
   "cell_type": "code",
   "execution_count": 10,
   "metadata": {},
   "outputs": [],
   "source": [
    "BS = 128\n",
    "Mom = 0.9\n",
    "LR = 0.0005\n",
    "logits = AlexNet(x)\n",
    "cost = tf.losses.softmax_cross_entropy(one_hot_y, logits)\n",
    "optimizer = tf.train.MomentumOptimizer(learning_rate=LR,\n",
    "                                       momentum=Mom)\n",
    "training = optimizer.minimize(cost)"
   ]
  },
  {
   "cell_type": "markdown",
   "metadata": {},
   "source": [
    "# VGG16"
   ]
  },
  {
   "cell_type": "code",
   "execution_count": 11,
   "metadata": {},
   "outputs": [],
   "source": [
    "tf.reset_default_graph()"
   ]
  },
  {
   "cell_type": "code",
   "execution_count": 12,
   "metadata": {},
   "outputs": [],
   "source": [
    "# TODO: Crop ImageNet"
   ]
  },
  {
   "cell_type": "code",
   "execution_count": 13,
   "metadata": {},
   "outputs": [],
   "source": [
    "x = tf.placeholder(tf.float32, shape=[None, 224, 224, 3])\n",
    "y = tf.placeholder(tf.int32, shape=[None])\n",
    "one_hot_y = tf.one_hot(y, 1000)"
   ]
  },
  {
   "cell_type": "code",
   "execution_count": 14,
   "metadata": {},
   "outputs": [],
   "source": [
    "BS = 256\n",
    "Mom = 0.9\n",
    "LR = 1e-2\n",
    "logits = VGG16(x)\n",
    "cost = tf.losses.softmax_cross_entropy(one_hot_y, logits)\n",
    "optimizer = tf.train.MomentumOptimizer(learning_rate=LR,\n",
    "                                       momentum=Mom)\n",
    "training = optimizer.minimize(cost)"
   ]
  }
 ],
 "metadata": {
  "kernelspec": {
   "display_name": "Python 3",
   "language": "python",
   "name": "python3"
  },
  "language_info": {
   "codemirror_mode": {
    "name": "ipython",
    "version": 3
   },
   "file_extension": ".py",
   "mimetype": "text/x-python",
   "name": "python",
   "nbconvert_exporter": "python",
   "pygments_lexer": "ipython3",
   "version": "3.6.7"
  }
 },
 "nbformat": 4,
 "nbformat_minor": 2
}
